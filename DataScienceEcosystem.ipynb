{
 "cells": [
  {
   "cell_type": "markdown",
   "id": "39e249b6",
   "metadata": {},
   "source": [
    "# Data Science Tools and Ecosystem"
   ]
  },
  {
   "cell_type": "markdown",
   "id": "28ab0229",
   "metadata": {},
   "source": [
    "In this notebook, Data Science Tools and Ecosystem are summarized."
   ]
  },
  {
   "cell_type": "markdown",
   "id": "5faa6f38",
   "metadata": {},
   "source": [
    "Some of the popular languages that Data Scientists use are:\n",
    " 1. R\n",
    " 2. Python\n",
    " 3. Scala\n",
    " 4. C"
   ]
  },
  {
   "cell_type": "markdown",
   "id": "d5121cad",
   "metadata": {},
   "source": [
    "Some of the commonly used libraries used by Data Scientists include:\n",
    "1. numpy\n",
    "2. TensorFlow\n",
    "3. Pytorch\n",
    "4. Ggplot\n",
    "5. Dplyr"
   ]
  },
  {
   "cell_type": "markdown",
   "id": "6f3944a2",
   "metadata": {},
   "source": [
    "|Data Science Tools|\n",
    "-----------------------\n",
    "|Jupyter Notebook|\n",
    "|R Studio|\n",
    "|Anaconda Navigator|\n",
    "|Github|"
   ]
  },
  {
   "cell_type": "markdown",
   "id": "1ad60ef3",
   "metadata": {},
   "source": [
    "### Below are a few examples of evaluating arithmetic expressions in Python\n",
    "a=2\n",
    "b=3\n",
    "c=a+b\n",
    "print(c)"
   ]
  },
  {
   "cell_type": "code",
   "execution_count": 1,
   "id": "537e2932",
   "metadata": {},
   "outputs": [
    {
     "data": {
      "text/plain": [
       "17"
      ]
     },
     "execution_count": 1,
     "metadata": {},
     "output_type": "execute_result"
    }
   ],
   "source": [
    "(3*4)+5  #This a simple arithmetic expression to mutiply then add integers "
   ]
  },
  {
   "cell_type": "code",
   "execution_count": 2,
   "id": "04817e54",
   "metadata": {},
   "outputs": [
    {
     "name": "stdout",
     "output_type": "stream",
     "text": [
      "3.3333333333333335\n"
     ]
    }
   ],
   "source": [
    "Minutes = 200\n",
    "Hours = (Minutes/60) #his will convert 200 minutes to hours by diving by 60\n",
    "print (Hours)"
   ]
  },
  {
   "cell_type": "markdown",
   "id": "8fa06102",
   "metadata": {},
   "source": [
    "**Objectives:**\n",
    "- List popular languages for Data Science\n",
    "- List of Libraries used by Data scientists\n",
    "- Create table listing Data science tools\n",
    "- Examples of Arithmetic expression\n",
    "- Perform Minute to Hour conversion \n",
    "- Create ordered list\n",
    "- Create unordered list"
   ]
  },
  {
   "cell_type": "markdown",
   "id": "19631dc4",
   "metadata": {},
   "source": [
    "## Author\n",
    "Ragini Thakur"
   ]
  },
  {
   "cell_type": "code",
   "execution_count": null,
   "id": "dc7e6cdc",
   "metadata": {},
   "outputs": [],
   "source": []
  }
 ],
 "metadata": {
  "kernelspec": {
   "display_name": "Python 3 (ipykernel)",
   "language": "python",
   "name": "python3"
  },
  "language_info": {
   "codemirror_mode": {
    "name": "ipython",
    "version": 3
   },
   "file_extension": ".py",
   "mimetype": "text/x-python",
   "name": "python",
   "nbconvert_exporter": "python",
   "pygments_lexer": "ipython3",
   "version": "3.10.12"
  }
 },
 "nbformat": 4,
 "nbformat_minor": 5
}
